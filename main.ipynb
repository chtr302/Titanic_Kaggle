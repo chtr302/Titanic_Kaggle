{
 "cells": [
  {
   "cell_type": "markdown",
   "metadata": {},
   "source": [
    "# Library"
   ]
  },
  {
   "cell_type": "code",
   "execution_count": 25,
   "metadata": {},
   "outputs": [],
   "source": [
    "import numpy as np\n",
    "import pandas as pd\n",
    "import matplotlib.pyplot as plt\n",
    "from sklearn.impute import SimpleImputer\n",
    "from sklearn.ensemble import RandomForestClassifier\n",
    "from lib_pre_data import *\n",
    "from lib_pre_data import choose_models\n",
    "from sklearn.metrics import classification_report, confusion_matrix"
   ]
  },
  {
   "cell_type": "markdown",
   "metadata": {},
   "source": [
    "# Collecting Data"
   ]
  },
  {
   "cell_type": "code",
   "execution_count": 26,
   "metadata": {},
   "outputs": [],
   "source": [
    "data_train = pd.read_csv('Data/train.csv')\n",
    "data_test = pd.read_csv('Data/test.csv')\n",
    "data_results = pd.read_csv('Data/gender_submission.csv')"
   ]
  },
  {
   "cell_type": "markdown",
   "metadata": {},
   "source": [
    "# Preprocessing Data"
   ]
  },
  {
   "cell_type": "code",
   "execution_count": 27,
   "metadata": {},
   "outputs": [],
   "source": [
    "data_train['FamilySize'] = data_train['SibSp'] + data_train['Parch'] + 1\n",
    "data_test['FamilySize'] = data_test['SibSp'] + data_test['Parch'] + 1\n",
    "\n",
    "data_train['Title'] = data_train['Name'].apply(search_title_name)\n",
    "data_test['Title'] = data_test['Name'].apply(search_title_name)\n",
    "title_mapping = {\n",
    "    \"Mr\": \"Mr\", \"Miss\": \"Miss\", \"Mrs\": \"Mrs\", \"Master\": \"Master\", \"Dr\": \"Rare\", \"Rev\": \"Rare\",\n",
    "    \"Col\": \"Rare\", \"Major\": \"Rare\", \"Mlle\": \"Miss\", \"Countess\": \"Rare\", \"Ms\": \"Miss\",\n",
    "    \"Lady\": \"Rare\", \"Jonkheer\": \"Rare\", \"Don\": \"Rare\", \"Dona\": \"Rare\", \"Mme\": \"Mrs\",\n",
    "    \"Capt\": \"Rare\", \"Sir\": \"Rare\"\n",
    "}\n",
    "\n",
    "data_train['Title'] = data_train['Title'].map(title_mapping)\n",
    "data_test['Title'] = data_test['Title'].map(title_mapping)"
   ]
  },
  {
   "cell_type": "code",
   "execution_count": 28,
   "metadata": {},
   "outputs": [
    {
     "data": {
      "text/plain": [
       "0      2\n",
       "1      2\n",
       "2      1\n",
       "3      2\n",
       "4      1\n",
       "      ..\n",
       "886    1\n",
       "887    1\n",
       "888    4\n",
       "889    1\n",
       "890    1\n",
       "Name: FamilySize, Length: 891, dtype: int64"
      ]
     },
     "execution_count": 28,
     "metadata": {},
     "output_type": "execute_result"
    }
   ],
   "source": [
    "data_train['FamilySize']"
   ]
  },
  {
   "cell_type": "code",
   "execution_count": 29,
   "metadata": {},
   "outputs": [
    {
     "data": {
      "text/plain": [
       "0        Mr\n",
       "1       Mrs\n",
       "2      Miss\n",
       "3       Mrs\n",
       "4        Mr\n",
       "       ... \n",
       "886    Rare\n",
       "887    Miss\n",
       "888    Miss\n",
       "889      Mr\n",
       "890      Mr\n",
       "Name: Title, Length: 891, dtype: object"
      ]
     },
     "execution_count": 29,
     "metadata": {},
     "output_type": "execute_result"
    }
   ],
   "source": [
    "data_train['Title']"
   ]
  },
  {
   "cell_type": "markdown",
   "metadata": {},
   "source": [
    "# Handling missing data and Encoder"
   ]
  },
  {
   "cell_type": "code",
   "execution_count": 30,
   "metadata": {},
   "outputs": [
    {
     "data": {
      "text/plain": [
       "177"
      ]
     },
     "execution_count": 30,
     "metadata": {},
     "output_type": "execute_result"
    }
   ],
   "source": [
    "data_train['Age'].isnull().sum()"
   ]
  },
  {
   "cell_type": "code",
   "execution_count": 31,
   "metadata": {},
   "outputs": [],
   "source": [
    "imputer = SimpleImputer(strategy = 'median')\n",
    "data_train['Age'] = imputer.fit_transform(data_train[['Age']])\n",
    "data_test['Age'] = imputer.transform(data_test[['Age']])\n",
    "data_train, data_test = encoder_colum(data_train, data_test, 'Sex')\n",
    "data_train, data_test = encoder_colum(data_train, data_test, 'Title')"
   ]
  },
  {
   "cell_type": "code",
   "execution_count": 32,
   "metadata": {},
   "outputs": [
    {
     "data": {
      "text/plain": [
       "0      22.0\n",
       "1      38.0\n",
       "2      26.0\n",
       "3      35.0\n",
       "4      35.0\n",
       "       ... \n",
       "886    27.0\n",
       "887    19.0\n",
       "888    28.0\n",
       "889    26.0\n",
       "890    32.0\n",
       "Name: Age, Length: 891, dtype: float64"
      ]
     },
     "execution_count": 32,
     "metadata": {},
     "output_type": "execute_result"
    }
   ],
   "source": [
    "data_train['Age']"
   ]
  },
  {
   "cell_type": "code",
   "execution_count": 33,
   "metadata": {},
   "outputs": [
    {
     "data": {
      "text/plain": [
       "0      2\n",
       "1      3\n",
       "2      1\n",
       "3      3\n",
       "4      2\n",
       "      ..\n",
       "886    4\n",
       "887    1\n",
       "888    1\n",
       "889    2\n",
       "890    2\n",
       "Name: Title, Length: 891, dtype: int64"
      ]
     },
     "execution_count": 33,
     "metadata": {},
     "output_type": "execute_result"
    }
   ],
   "source": [
    "data_train['Title']"
   ]
  },
  {
   "cell_type": "markdown",
   "metadata": {},
   "source": [
    "# Split Data"
   ]
  },
  {
   "cell_type": "code",
   "execution_count": 34,
   "metadata": {},
   "outputs": [],
   "source": [
    "features = ['Pclass', 'Sex', 'SibSp', 'Parch', 'Age', 'FamilySize', 'Title']\n",
    "X_train = data_train[features]\n",
    "X_test = data_test[features]\n",
    "y_train = data_train['Survived']\n",
    "test_value = data_results.iloc[:,-1].values"
   ]
  },
  {
   "cell_type": "markdown",
   "metadata": {},
   "source": [
    "# Choose Model Classification"
   ]
  },
  {
   "cell_type": "code",
   "execution_count": 35,
   "metadata": {},
   "outputs": [
    {
     "name": "stdout",
     "output_type": "stream",
     "text": [
      "Random Forest Confusion Matrix:\n",
      " [[258   8]\n",
      " [  5 147]]\n",
      "Random Forest Classification Report:\n",
      "               precision    recall  f1-score   support\n",
      "\n",
      "           0       0.98      0.97      0.98       266\n",
      "           1       0.95      0.97      0.96       152\n",
      "\n",
      "    accuracy                           0.97       418\n",
      "   macro avg       0.96      0.97      0.97       418\n",
      "weighted avg       0.97      0.97      0.97       418\n",
      "\n",
      "Random Forest Cross-validation scores: [0.83798883 0.8258427  0.82022472 0.79775281 0.84831461]\n",
      "Random Forest Mean cross-validation score: 0.8260247316552632\n",
      "Decision Tree Confusion Matrix:\n",
      " [[223  43]\n",
      " [ 40 112]]\n",
      "Decision Tree Classification Report:\n",
      "               precision    recall  f1-score   support\n",
      "\n",
      "           0       0.85      0.84      0.84       266\n",
      "           1       0.72      0.74      0.73       152\n",
      "\n",
      "    accuracy                           0.80       418\n",
      "   macro avg       0.79      0.79      0.79       418\n",
      "weighted avg       0.80      0.80      0.80       418\n",
      "\n",
      "Decision Tree Cross-validation scores: [0.76536313 0.79775281 0.80337079 0.79775281 0.82022472]\n",
      "Decision Tree Mean cross-validation score: 0.7968928504174252\n",
      "Logistic Confusion Matrix:\n",
      " [[249  17]\n",
      " [ 15 137]]\n",
      "Logistic Classification Report:\n",
      "               precision    recall  f1-score   support\n",
      "\n",
      "           0       0.94      0.94      0.94       266\n",
      "           1       0.89      0.90      0.90       152\n",
      "\n",
      "    accuracy                           0.92       418\n",
      "   macro avg       0.92      0.92      0.92       418\n",
      "weighted avg       0.92      0.92      0.92       418\n",
      "\n",
      "Logistic Cross-validation scores: [0.79888268 0.76966292 0.78089888 0.7752809  0.82022472]\n",
      "Logistic Mean cross-validation score: 0.7889900194589166\n",
      "SVC Confusion Matrix:\n",
      " [[266   0]\n",
      " [  0 152]]\n",
      "SVC Classification Report:\n",
      "               precision    recall  f1-score   support\n",
      "\n",
      "           0       1.00      1.00      1.00       266\n",
      "           1       1.00      1.00      1.00       152\n",
      "\n",
      "    accuracy                           1.00       418\n",
      "   macro avg       1.00      1.00      1.00       418\n",
      "weighted avg       1.00      1.00      1.00       418\n",
      "\n",
      "SVC Cross-validation scores: [0.80446927 0.80337079 0.78651685 0.75280899 0.78651685]\n",
      "SVC Mean cross-validation score: 0.7867365513778168\n",
      "K-Nearest Confusion Matrix:\n",
      " [[224  42]\n",
      " [ 50 102]]\n",
      "K-Nearest Classification Report:\n",
      "               precision    recall  f1-score   support\n",
      "\n",
      "           0       0.82      0.84      0.83       266\n",
      "           1       0.71      0.67      0.69       152\n",
      "\n",
      "    accuracy                           0.78       418\n",
      "   macro avg       0.76      0.76      0.76       418\n",
      "weighted avg       0.78      0.78      0.78       418\n",
      "\n",
      "K-Nearest Cross-validation scores: [0.7877095  0.70786517 0.75280899 0.80337079 0.80337079]\n",
      "K-Nearest Mean cross-validation score: 0.7710250455087565\n",
      "Navie Bayes Confusion Matrix:\n",
      " [[241  25]\n",
      " [  6 146]]\n",
      "Navie Bayes Classification Report:\n",
      "               precision    recall  f1-score   support\n",
      "\n",
      "           0       0.98      0.91      0.94       266\n",
      "           1       0.85      0.96      0.90       152\n",
      "\n",
      "    accuracy                           0.93       418\n",
      "   macro avg       0.91      0.93      0.92       418\n",
      "weighted avg       0.93      0.93      0.93       418\n",
      "\n",
      "Navie Bayes Cross-validation scores: [0.77094972 0.76966292 0.81460674 0.80337079 0.8258427 ]\n",
      "Navie Bayes Mean cross-validation score: 0.7968865733475614\n"
     ]
    }
   ],
   "source": [
    "choose_models(X_train,y_train,X_test,test_value)"
   ]
  },
  {
   "cell_type": "markdown",
   "metadata": {},
   "source": [
    "# Random Forest Model"
   ]
  },
  {
   "cell_type": "code",
   "execution_count": 36,
   "metadata": {},
   "outputs": [],
   "source": [
    "classifier = RandomForestClassifier(n_estimators = 200,max_features = 'sqrt',min_samples_leaf = 3,min_samples_split = 3,max_depth = 3, criterion = 'entropy', random_state = 0)\n",
    "classifier.fit(X_train,y_train)\n",
    "predictions_value = classifier.predict(X_test)"
   ]
  },
  {
   "cell_type": "markdown",
   "metadata": {},
   "source": [
    "# Visualization"
   ]
  },
  {
   "cell_type": "code",
   "execution_count": 37,
   "metadata": {},
   "outputs": [
    {
     "data": {
      "image/png": "[encoded data removed]",
      "text/plain": [
       "<Figure size 800x600 with 1 Axes>"
      ]
     },
     "metadata": {},
     "output_type": "display_data"
    }
   ],
   "source": [
    "compare = pd.DataFrame({'Predictions': predictions_value, 'Actual': test_value})\n",
    "correct_predictions = (compare['Predictions'] == compare['Actual']).sum()\n",
    "incorrect_predictions = (compare['Predictions'] != compare['Actual']).sum()\n",
    "labels = ['Correct Predictions', 'Incorrect Predictions']\n",
    "values = [correct_predictions, incorrect_predictions]\n",
    "plt.figure(figsize=(8, 6))\n",
    "plt.bar(labels, values, color=['pink', 'blue'])\n",
    "plt.title('Comparison of Predictions')\n",
    "plt.ylabel('Number of Predictions')\n",
    "plt.show()"
   ]
  }
 ],
 "metadata": {
  "language_info": {
   "name": "python"
  }
 },
 "nbformat": 4,
 "nbformat_minor": 2
}
